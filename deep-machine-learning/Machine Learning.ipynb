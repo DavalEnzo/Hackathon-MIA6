{
 "cells": [
  {
   "cell_type": "markdown",
   "metadata": {},
   "source": [
    "# On se base sur le même dataset que celui du DeepLearning"
   ]
  },
  {
   "cell_type": "code",
   "execution_count": 6,
   "metadata": {},
   "outputs": [],
   "source": [
    "from sklearn.model_selection import train_test_split\n",
    "from sklearn.linear_model import LinearRegression\n",
    "from sklearn.metrics import mean_squared_error, r2_score\n",
    "from sklearn.ensemble import RandomForestRegressor,GradientBoostingRegressor\n",
    "import pandas as pd\n",
    "import numpy as np"
   ]
  },
  {
   "cell_type": "code",
   "execution_count": 2,
   "metadata": {},
   "outputs": [],
   "source": [
    "olympic_data = pd.read_csv('data/olympic_data_cleaned.csv')\n",
    "# Séparation des données en données d'entraînement et de test en fonction de l'année\n",
    "train_data = olympic_data[olympic_data['game_year'] < 2020]\n",
    "test_data = olympic_data[olympic_data['game_year'] == 2020]\n",
    "\n",
    "# Définir les variables explicatives et la variable cible\n",
    "features = ['sports', 'epreuves', 'game_part', 'prec_game_medal', 'prec_game_gold', 'prec_game_silver', 'prec_game_bronze']\n",
    "targets = ['gold_medals', 'silver_medals', 'bronze_medals']\n",
    "\n",
    "X_train = train_data[features]\n",
    "y_train = train_data[targets]\n",
    "\n",
    "X_test = test_data[features]\n",
    "y_test = test_data[targets]"
   ]
  },
  {
   "cell_type": "markdown",
   "metadata": {},
   "source": [
    "## Linear Regression"
   ]
  },
  {
   "cell_type": "code",
   "execution_count": 3,
   "metadata": {},
   "outputs": [
    {
     "data": {
      "text/plain": [
       "{'Model': 'Linear Regression',\n",
       " 'MSE (Gold)': 6.056399546351201,\n",
       " 'MSE (Silver)': 4.774153267686079,\n",
       " 'MSE (Bronze)': 4.242308057554072,\n",
       " 'R2 Score (Gold)': 0.7770860344641226,\n",
       " 'R2 Score (Silver)': 0.8046442637803142,\n",
       " 'R2 Score (Bronze)': 0.8149545432955921}"
      ]
     },
     "execution_count": 3,
     "metadata": {},
     "output_type": "execute_result"
    }
   ],
   "source": [
    "# Définition et entraînement du modèle de régression linéaire\n",
    "linear_reg = LinearRegression()\n",
    "linear_reg.fit(X_train, y_train)\n",
    "\n",
    "# Prédiction sur l'ensemble de test\n",
    "y_pred_linear = linear_reg.predict(X_test)\n",
    "\n",
    "# Evaluation du modèle\n",
    "results_linear = {\n",
    "    \"Model\": \"Linear Regression\",\n",
    "    \"MSE (Gold)\": mean_squared_error(y_test['gold_medals'], y_pred_linear[:, 0]),\n",
    "    \"MSE (Silver)\": mean_squared_error(y_test['silver_medals'], y_pred_linear[:, 1]),\n",
    "    \"MSE (Bronze)\": mean_squared_error(y_test['bronze_medals'], y_pred_linear[:, 2]),\n",
    "    \"R2 Score (Gold)\": r2_score(y_test['gold_medals'], y_pred_linear[:, 0]),\n",
    "    \"R2 Score (Silver)\": r2_score(y_test['silver_medals'], y_pred_linear[:, 1]),\n",
    "    \"R2 Score (Bronze)\": r2_score(y_test['bronze_medals'], y_pred_linear[:, 2])\n",
    "}\n",
    "\n",
    "results_linear"
   ]
  },
  {
   "cell_type": "markdown",
   "metadata": {},
   "source": [
    "## Random forest"
   ]
  },
  {
   "cell_type": "code",
   "execution_count": 4,
   "metadata": {},
   "outputs": [
    {
     "data": {
      "text/plain": [
       "{'Model': 'Random Forest',\n",
       " 'MSE (Gold)': 5.032383759929051,\n",
       " 'MSE (Silver)': 2.4096175956414703,\n",
       " 'MSE (Bronze)': 2.553349404238355,\n",
       " 'R2 Score (Gold)': 0.8147763185967515,\n",
       " 'R2 Score (Silver)': 0.9013997680823093,\n",
       " 'R2 Score (Bronze)': 0.8886253189954271}"
      ]
     },
     "execution_count": 4,
     "metadata": {},
     "output_type": "execute_result"
    }
   ],
   "source": [
    "# Initialiser et entraîner le modèle de régression Random Forest\n",
    "random_forest = RandomForestRegressor(random_state=42)\n",
    "random_forest.fit(X_train, y_train)\n",
    "\n",
    "# Prédiction sur l'ensemble de test\n",
    "y_pred_rf = random_forest.predict(X_test)\n",
    "\n",
    "# Evaluation du modèle\n",
    "results_rf = {\n",
    "    \"Model\": \"Random Forest\",\n",
    "    \"MSE (Gold)\": mean_squared_error(y_test['gold_medals'], y_pred_rf[:, 0]),\n",
    "    \"MSE (Silver)\": mean_squared_error(y_test['silver_medals'], y_pred_rf[:, 1]),\n",
    "    \"MSE (Bronze)\": mean_squared_error(y_test['bronze_medals'], y_pred_rf[:, 2]),\n",
    "    \"R2 Score (Gold)\": r2_score(y_test['gold_medals'], y_pred_rf[:, 0]),\n",
    "    \"R2 Score (Silver)\": r2_score(y_test['silver_medals'], y_pred_rf[:, 1]),\n",
    "    \"R2 Score (Bronze)\": r2_score(y_test['bronze_medals'], y_pred_rf[:, 2])\n",
    "}\n",
    "\n",
    "results_rf"
   ]
  },
  {
   "cell_type": "markdown",
   "metadata": {},
   "source": [
    "## Gradient Boosting Regressor"
   ]
  },
  {
   "cell_type": "code",
   "execution_count": 7,
   "metadata": {},
   "outputs": [
    {
     "data": {
      "text/plain": [
       "{'Model': 'Gradient Boosting',\n",
       " 'MSE (Gold)': 4.298433996533897,\n",
       " 'MSE (Silver)': 2.514013961679817,\n",
       " 'MSE (Bronze)': 3.0094894717148977,\n",
       " 'R2 Score (Gold)': 0.8417903309667084,\n",
       " 'R2 Score (Silver)': 0.8971279259770042,\n",
       " 'R2 Score (Bronze)': 0.8687289215716055}"
      ]
     },
     "execution_count": 7,
     "metadata": {},
     "output_type": "execute_result"
    }
   ],
   "source": [
    "# Separation des modèles de Gradient Boosting pour chaque médaille\n",
    "gradient_boost_gold = GradientBoostingRegressor(random_state=42)\n",
    "gradient_boost_silver = GradientBoostingRegressor(random_state=42)\n",
    "gradient_boost_bronze = GradientBoostingRegressor(random_state=42)\n",
    "\n",
    "gradient_boost_gold.fit(X_train, y_train['gold_medals'])\n",
    "gradient_boost_silver.fit(X_train, y_train['silver_medals'])\n",
    "gradient_boost_bronze.fit(X_train, y_train['bronze_medals'])\n",
    "\n",
    "# Prédiction sur l'ensemble de test\n",
    "y_pred_gb_gold = gradient_boost_gold.predict(X_test)\n",
    "y_pred_gb_silver = gradient_boost_silver.predict(X_test)\n",
    "y_pred_gb_bronze = gradient_boost_bronze.predict(X_test)\n",
    "\n",
    "# Combiner les prédictions de Gradient Boosting en un seul tableau\n",
    "y_pred_gb = np.column_stack((y_pred_gb_gold, y_pred_gb_silver, y_pred_gb_bronze))\n",
    "\n",
    "# Evaluation du modèle\n",
    "results_gb = {\n",
    "    \"Model\": \"Gradient Boosting\",\n",
    "    \"MSE (Gold)\": mean_squared_error(y_test['gold_medals'], y_pred_gb_gold),\n",
    "    \"MSE (Silver)\": mean_squared_error(y_test['silver_medals'], y_pred_gb_silver),\n",
    "    \"MSE (Bronze)\": mean_squared_error(y_test['bronze_medals'], y_pred_gb_bronze),\n",
    "    \"R2 Score (Gold)\": r2_score(y_test['gold_medals'], y_pred_gb_gold),\n",
    "    \"R2 Score (Silver)\": r2_score(y_test['silver_medals'], y_pred_gb_silver),\n",
    "    \"R2 Score (Bronze)\": r2_score(y_test['bronze_medals'], y_pred_gb_bronze)\n",
    "}\n",
    "\n",
    "results_gb"
   ]
  },
  {
   "cell_type": "markdown",
   "metadata": {},
   "source": [
    "## Paris 2024 prediction using the Gradient Boosting Regressor"
   ]
  },
  {
   "cell_type": "code",
   "execution_count": 12,
   "metadata": {},
   "outputs": [
    {
     "data": {
      "text/html": [
       "<div>\n",
       "<style scoped>\n",
       "    .dataframe tbody tr th:only-of-type {\n",
       "        vertical-align: middle;\n",
       "    }\n",
       "\n",
       "    .dataframe tbody tr th {\n",
       "        vertical-align: top;\n",
       "    }\n",
       "\n",
       "    .dataframe thead th {\n",
       "        text-align: right;\n",
       "    }\n",
       "</style>\n",
       "<table border=\"1\" class=\"dataframe\">\n",
       "  <thead>\n",
       "    <tr style=\"text-align: right;\">\n",
       "      <th></th>\n",
       "      <th>country_name</th>\n",
       "      <th>gold_medals_gb</th>\n",
       "      <th>silver_medals_gb</th>\n",
       "      <th>bronze_medals_gb</th>\n",
       "    </tr>\n",
       "  </thead>\n",
       "  <tbody>\n",
       "    <tr>\n",
       "      <th>2699</th>\n",
       "      <td>United States of America</td>\n",
       "      <td>41</td>\n",
       "      <td>40</td>\n",
       "      <td>33</td>\n",
       "    </tr>\n",
       "    <tr>\n",
       "      <th>2700</th>\n",
       "      <td>People's Republic of China</td>\n",
       "      <td>36</td>\n",
       "      <td>28</td>\n",
       "      <td>21</td>\n",
       "    </tr>\n",
       "    <tr>\n",
       "      <th>2701</th>\n",
       "      <td>ROC</td>\n",
       "      <td>22</td>\n",
       "      <td>26</td>\n",
       "      <td>20</td>\n",
       "    </tr>\n",
       "    <tr>\n",
       "      <th>2702</th>\n",
       "      <td>Great Britain</td>\n",
       "      <td>25</td>\n",
       "      <td>21</td>\n",
       "      <td>21</td>\n",
       "    </tr>\n",
       "    <tr>\n",
       "      <th>2703</th>\n",
       "      <td>Japan</td>\n",
       "      <td>25</td>\n",
       "      <td>14</td>\n",
       "      <td>15</td>\n",
       "    </tr>\n",
       "    <tr>\n",
       "      <th>...</th>\n",
       "      <td>...</td>\n",
       "      <td>...</td>\n",
       "      <td>...</td>\n",
       "      <td>...</td>\n",
       "    </tr>\n",
       "    <tr>\n",
       "      <th>2884</th>\n",
       "      <td>Virgin Islands, British</td>\n",
       "      <td>0</td>\n",
       "      <td>0</td>\n",
       "      <td>0</td>\n",
       "    </tr>\n",
       "    <tr>\n",
       "      <th>2885</th>\n",
       "      <td>Virgin Islands, US</td>\n",
       "      <td>0</td>\n",
       "      <td>0</td>\n",
       "      <td>0</td>\n",
       "    </tr>\n",
       "    <tr>\n",
       "      <th>2886</th>\n",
       "      <td>Yemen</td>\n",
       "      <td>0</td>\n",
       "      <td>0</td>\n",
       "      <td>0</td>\n",
       "    </tr>\n",
       "    <tr>\n",
       "      <th>2887</th>\n",
       "      <td>Zambia</td>\n",
       "      <td>0</td>\n",
       "      <td>0</td>\n",
       "      <td>0</td>\n",
       "    </tr>\n",
       "    <tr>\n",
       "      <th>2888</th>\n",
       "      <td>Zimbabwe</td>\n",
       "      <td>0</td>\n",
       "      <td>0</td>\n",
       "      <td>0</td>\n",
       "    </tr>\n",
       "  </tbody>\n",
       "</table>\n",
       "<p>190 rows × 4 columns</p>\n",
       "</div>"
      ],
      "text/plain": [
       "                    country_name  gold_medals_gb  silver_medals_gb  \\\n",
       "2699    United States of America              41                40   \n",
       "2700  People's Republic of China              36                28   \n",
       "2701                         ROC              22                26   \n",
       "2702               Great Britain              25                21   \n",
       "2703                       Japan              25                14   \n",
       "...                          ...             ...               ...   \n",
       "2884     Virgin Islands, British               0                 0   \n",
       "2885          Virgin Islands, US               0                 0   \n",
       "2886                       Yemen               0                 0   \n",
       "2887                      Zambia               0                 0   \n",
       "2888                    Zimbabwe               0                 0   \n",
       "\n",
       "      bronze_medals_gb  \n",
       "2699                33  \n",
       "2700                21  \n",
       "2701                20  \n",
       "2702                21  \n",
       "2703                15  \n",
       "...                ...  \n",
       "2884                 0  \n",
       "2885                 0  \n",
       "2886                 0  \n",
       "2887                 0  \n",
       "2888                 0  \n",
       "\n",
       "[190 rows x 4 columns]"
      ]
     },
     "execution_count": 12,
     "metadata": {},
     "output_type": "execute_result"
    }
   ],
   "source": [
    "# Séparation des données pour l'entraînement (toutes les données jusqu'en 2020)\n",
    "train_data = olympic_data[olympic_data['game_year'] <= 2020]\n",
    "\n",
    "# Définir les variables explicatives et la variable cible\n",
    "features = ['sports', 'epreuves', 'game_part', 'prec_game_medal', 'prec_game_gold', 'prec_game_silver', 'prec_game_bronze']\n",
    "targets = ['gold_medals', 'silver_medals', 'bronze_medals']\n",
    "\n",
    "X_train = train_data[features]\n",
    "y_train_gold = train_data['gold_medals']\n",
    "y_train_silver = train_data['silver_medals']\n",
    "y_train_bronze = train_data['bronze_medals']\n",
    "\n",
    "# Separation des modèles de Gradient Boosting pour chaque médaille\n",
    "gradient_boost_gold = GradientBoostingRegressor(random_state=42)\n",
    "gradient_boost_silver = GradientBoostingRegressor(random_state=42)\n",
    "gradient_boost_bronze = GradientBoostingRegressor(random_state=42)\n",
    "\n",
    "gradient_boost_gold.fit(X_train, y_train_gold)\n",
    "gradient_boost_silver.fit(X_train, y_train_silver)\n",
    "gradient_boost_bronze.fit(X_train, y_train_bronze)\n",
    "\n",
    "# Préparation de la donnée pour la prédiction (en utilisant les données de 2020 comme base)\n",
    "test_data_2020 = olympic_data[olympic_data['game_year'] == 2020]\n",
    "X_test_2024 = test_data_2020[features]\n",
    "\n",
    "# Prediction pour Paris 2024\n",
    "y_pred_2024_gb_gold = gradient_boost_gold.predict(X_test_2024)\n",
    "y_pred_2024_gb_silver = gradient_boost_silver.predict(X_test_2024)\n",
    "y_pred_2024_gb_bronze = gradient_boost_bronze.predict(X_test_2024)\n",
    "\n",
    "# Combiner les prédictions de Gradient Boosting en un seul tableau et arrondir les résultats\n",
    "y_pred_2024_gb = np.column_stack((y_pred_2024_gb_gold, y_pred_2024_gb_silver, y_pred_2024_gb_bronze)).round().astype(int)\n",
    "\n",
    "# Prédictions pour Paris 2024\n",
    "predictions_2024 = pd.DataFrame({\n",
    "    'country_name': test_data_2020['country_name'],\n",
    "    'gold_medals': y_pred_2024_gb[:, 0],\n",
    "    'silver_medals': y_pred_2024_gb[:, 1],\n",
    "    'bronze_medals': y_pred_2024_gb[:, 2],\n",
    "})\n",
    "\n",
    "predictions_2024\n",
    "\n"
   ]
  }
 ],
 "metadata": {
  "kernelspec": {
   "display_name": "Python 3",
   "language": "python",
   "name": "python3"
  },
  "language_info": {
   "codemirror_mode": {
    "name": "ipython",
    "version": 3
   },
   "file_extension": ".py",
   "mimetype": "text/x-python",
   "name": "python",
   "nbconvert_exporter": "python",
   "pygments_lexer": "ipython3",
   "version": "3.9.13"
  }
 },
 "nbformat": 4,
 "nbformat_minor": 2
}
